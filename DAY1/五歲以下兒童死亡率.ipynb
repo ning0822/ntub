{
 "cells": [
  {
   "cell_type": "code",
   "execution_count": 23,
   "metadata": {},
   "outputs": [
    {
     "data": {
      "text/html": [
       "<div>\n",
       "<style scoped>\n",
       "    .dataframe tbody tr th:only-of-type {\n",
       "        vertical-align: middle;\n",
       "    }\n",
       "\n",
       "    .dataframe tbody tr th {\n",
       "        vertical-align: top;\n",
       "    }\n",
       "\n",
       "    .dataframe thead th {\n",
       "        text-align: right;\n",
       "    }\n",
       "</style>\n",
       "<table border=\"1\" class=\"dataframe\">\n",
       "  <thead>\n",
       "    <tr style=\"text-align: right;\">\n",
       "      <th></th>\n",
       "      <th>COUNTRY</th>\n",
       "      <th>mortality rate\\n</th>\n",
       "      <th>POPULATION</th>\n",
       "      <th>DEATHS</th>\n",
       "      <th>GDP</th>\n",
       "    </tr>\n",
       "  </thead>\n",
       "  <tbody>\n",
       "    <tr>\n",
       "      <td>0</td>\n",
       "      <td>阿富汗</td>\n",
       "      <td>62.3</td>\n",
       "      <td>5601440</td>\n",
       "      <td>3489697</td>\n",
       "      <td>1.936297e+10</td>\n",
       "    </tr>\n",
       "    <tr>\n",
       "      <td>1</td>\n",
       "      <td>安哥拉</td>\n",
       "      <td>77.2</td>\n",
       "      <td>5552550</td>\n",
       "      <td>4286569</td>\n",
       "      <td>1.060000e+11</td>\n",
       "    </tr>\n",
       "    <tr>\n",
       "      <td>2</td>\n",
       "      <td>泰國</td>\n",
       "      <td>9.1</td>\n",
       "      <td>3692350</td>\n",
       "      <td>336004</td>\n",
       "      <td>5.050000e+11</td>\n",
       "    </tr>\n",
       "    <tr>\n",
       "      <td>3</td>\n",
       "      <td>比利時</td>\n",
       "      <td>3.7</td>\n",
       "      <td>636890</td>\n",
       "      <td>23565</td>\n",
       "      <td>5.320000e+11</td>\n",
       "    </tr>\n",
       "    <tr>\n",
       "      <td>4</td>\n",
       "      <td>阿根廷</td>\n",
       "      <td>9.9</td>\n",
       "      <td>3747750</td>\n",
       "      <td>371027</td>\n",
       "      <td>5.180000e+11</td>\n",
       "    </tr>\n",
       "  </tbody>\n",
       "</table>\n",
       "</div>"
      ],
      "text/plain": [
       "  COUNTRY  mortality rate\\n  POPULATION   DEATHS           GDP\n",
       "0     阿富汗              62.3     5601440  3489697  1.936297e+10\n",
       "1     安哥拉              77.2     5552550  4286569  1.060000e+11\n",
       "2      泰國               9.1     3692350   336004  5.050000e+11\n",
       "3     比利時               3.7      636890    23565  5.320000e+11\n",
       "4     阿根廷               9.9     3747750   371027  5.180000e+11"
      ]
     },
     "execution_count": 23,
     "metadata": {},
     "output_type": "execute_result"
    }
   ],
   "source": [
    "%matplotlib inline\n",
    "import matplotlib.pyplot as plt\n",
    "import pandas as pd\n",
    "import numpy as np\n",
    "\n",
    "DEATH_data  = pd.read_csv('DEATH.csv',encoding=\"big5\")\n",
    "DEATH_data.head()"
   ]
  },
  {
   "cell_type": "code",
   "execution_count": 24,
   "metadata": {},
   "outputs": [
    {
     "data": {
      "text/plain": [
       "0    阿富汗\n",
       "1    安哥拉\n",
       "2     泰國\n",
       "3    比利時\n",
       "4    阿根廷\n",
       "Name: COUNTRY, dtype: object"
      ]
     },
     "execution_count": 24,
     "metadata": {},
     "output_type": "execute_result"
    }
   ],
   "source": [
    "labels = DEATH_data['COUNTRY']\n",
    "labels"
   ]
  },
  {
   "cell_type": "code",
   "execution_count": 25,
   "metadata": {},
   "outputs": [
    {
     "data": {
      "text/plain": [
       "0    62.3\n",
       "1    77.2\n",
       "2     9.1\n",
       "3     3.7\n",
       "4     9.9\n",
       "Name: mortality rate\\n, dtype: float64"
      ]
     },
     "execution_count": 25,
     "metadata": {},
     "output_type": "execute_result"
    }
   ],
   "source": [
    "sizes = DEATH_data['mortality rate\\n']\n",
    "sizes"
   ]
  },
  {
   "cell_type": "code",
   "execution_count": 26,
   "metadata": {},
   "outputs": [
    {
     "data": {
      "image/png": "[encoded data removed]",
      "text/plain": [
       "<Figure size 432x288 with 1 Axes>"
      ]
     },
     "metadata": {},
     "output_type": "display_data"
    }
   ],
   "source": [
    "colors = ['gold', 'yellowgreen', 'lightcoral', 'lightskyblue', 'pink', 'yellow', 'red', 'blue']\n",
    "#explode = (0.1, 0, 0, 0, 0, 0, 0, 0)  # explode 1st slice\n",
    " \n",
    "# Plot\n",
    "patches, texts, autotexts = plt.pie(sizes, colors = colors, autopct='%1.1f%%', startangle=90)\n",
    "\n",
    "plt.legend(patches, labels, loc=\"best\")\n",
    "plt.axis('equal')\n",
    "plt.tight_layout()\n",
    "plt.show()"
   ]
  },
  {
   "cell_type": "code",
   "execution_count": 27,
   "metadata": {},
   "outputs": [
    {
     "data": {
      "text/plain": [
       "0    62.3\n",
       "1    77.2\n",
       "2     9.1\n",
       "3     3.7\n",
       "4     9.9\n",
       "Name: mortality rate\\n, dtype: float64"
      ]
     },
     "execution_count": 27,
     "metadata": {},
     "output_type": "execute_result"
    }
   ],
   "source": [
    "y = DEATH_data['mortality rate\\n']\n",
    "y"
   ]
  },
  {
   "cell_type": "code",
   "execution_count": 29,
   "metadata": {},
   "outputs": [
    {
     "data": {
      "text/plain": [
       "0    1.936297e+10\n",
       "1    1.060000e+11\n",
       "2    5.050000e+11\n",
       "3    5.320000e+11\n",
       "4    5.180000e+11\n",
       "Name: GDP, dtype: float64"
      ]
     },
     "execution_count": 29,
     "metadata": {},
     "output_type": "execute_result"
    }
   ],
   "source": [
    "x = DEATH_data['GDP']\n",
    "x"
   ]
  },
  {
   "cell_type": "code",
   "execution_count": 30,
   "metadata": {},
   "outputs": [
    {
     "data": {
      "text/plain": [
       "[<matplotlib.lines.Line2D at 0x2702fbc3548>]"
      ]
     },
     "execution_count": 30,
     "metadata": {},
     "output_type": "execute_result"
    },
    {
     "data": {
      "image/png": "[encoded data removed]",
      "text/plain": [
       "<Figure size 432x288 with 1 Axes>"
      ]
     },
     "metadata": {
      "needs_background": "light"
     },
     "output_type": "display_data"
    }
   ],
   "source": [
    "plt.plot(x,y, 'ro')"
   ]
  },
  {
   "cell_type": "code",
   "execution_count": null,
   "metadata": {},
   "outputs": [],
   "source": []
  }
 ],
 "metadata": {
  "kernelspec": {
   "display_name": "Python 3",
   "language": "python",
   "name": "python3"
  },
  "language_info": {
   "codemirror_mode": {
    "name": "ipython",
    "version": 3
   },
   "file_extension": ".py",
   "mimetype": "text/x-python",
   "name": "python",
   "nbconvert_exporter": "python",
   "pygments_lexer": "ipython3",
   "version": "3.7.4"
  }
 },
 "nbformat": 4,
 "nbformat_minor": 2
}
